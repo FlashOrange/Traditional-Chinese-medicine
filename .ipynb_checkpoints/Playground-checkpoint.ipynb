{
 "cells": [
  {
   "cell_type": "code",
   "execution_count": 1,
   "metadata": {},
   "outputs": [
    {
     "name": "stdout",
     "output_type": "stream",
     "text": [
      "What's your name?\n"
     ]
    },
    {
     "name": "stdin",
     "output_type": "stream",
     "text": [
      " Liufubo\n"
     ]
    },
    {
     "name": "stdout",
     "output_type": "stream",
     "text": [
      "Hello Liufubo!\n"
     ]
    }
   ],
   "source": [
    "print('What\\'s your name?')\n",
    "name = input()\n",
    "print(f'Hello {name}!')"
   ]
  },
  {
   "cell_type": "code",
   "execution_count": 2,
   "metadata": {},
   "outputs": [
    {
     "name": "stdout",
     "output_type": "stream",
     "text": [
      "How are you today?\n"
     ]
    },
    {
     "name": "stdin",
     "output_type": "stream",
     "text": [
      " good\n"
     ]
    },
    {
     "name": "stdout",
     "output_type": "stream",
     "text": [
      "I'm feeling good too!\n"
     ]
    }
   ],
   "source": [
    "print('How are you today?')\n",
    "feeling = input()\n",
    "if 'good' in feeling:\n",
    "    print('I\\'m feeling good too!')\n",
    "else:\n",
    "    print('Sorry to hear that.')"
   ]
  },
  {
   "cell_type": "code",
   "execution_count": 3,
   "metadata": {},
   "outputs": [
    {
     "name": "stdout",
     "output_type": "stream",
     "text": [
      "What's your favorite color?\n"
     ]
    },
    {
     "name": "stdin",
     "output_type": "stream",
     "text": [
      " red\n"
     ]
    },
    {
     "name": "stdout",
     "output_type": "stream",
     "text": [
      "You like red? That's a great color. My favorite color is blue.\n"
     ]
    }
   ],
   "source": [
    "import random\n",
    "\n",
    "print('What\\'s your favorite color?')\n",
    "favcolor = input()\n",
    "colors = ['red', 'orange', 'yellow', 'green', 'blue', 'purple']\n",
    "print(f'You like {favcolor}? That\\'s a great color. My favorite color is {random.choice(colors)}.')"
   ]
  },
  {
   "cell_type": "code",
   "execution_count": 4,
   "metadata": {},
   "outputs": [],
   "source": [
    "class Bot:\n",
    "    \n",
    "    def __init__(self):\n",
    "        self.q = ''\n",
    "        self.a = ''\n",
    "    \n",
    "    def _think(self, s):\n",
    "        return s\n",
    "    \n",
    "    def run(self):\n",
    "        print(self.q)\n",
    "        self.a = input()\n",
    "        print(self._think(self.a))"
   ]
  },
  {
   "cell_type": "code",
   "execution_count": 5,
   "metadata": {},
   "outputs": [
    {
     "name": "stdout",
     "output_type": "stream",
     "text": [
      "Hi,what's your name?\n"
     ]
    },
    {
     "name": "stdin",
     "output_type": "stream",
     "text": [
      " Lfb\n"
     ]
    },
    {
     "name": "stdout",
     "output_type": "stream",
     "text": [
      "Hello Lfb!\n"
     ]
    }
   ],
   "source": [
    "class HelloBot(Bot):\n",
    "    def __init__(self):\n",
    "        self.q = 'Hi,what\\'s your name?'\n",
    "        \n",
    "    def _think(self, s):\n",
    "        return(f'Hello {s}!')\n",
    "        \n",
    "h = HelloBot()\n",
    "h.run()"
   ]
  },
  {
   "cell_type": "code",
   "execution_count": 6,
   "metadata": {},
   "outputs": [
    {
     "name": "stdout",
     "output_type": "stream",
     "text": [
      "How are you today?\n"
     ]
    },
    {
     "name": "stdin",
     "output_type": "stream",
     "text": [
      " good\n"
     ]
    },
    {
     "name": "stdout",
     "output_type": "stream",
     "text": [
      "I'm feeling good too!\n"
     ]
    }
   ],
   "source": [
    "class GreetingBot(Bot):\n",
    "    def __init__(self):\n",
    "        self.q = 'How are you today?'\n",
    "        \n",
    "    def _think(self, s):\n",
    "        if 'good' in feeling.lower():\n",
    "            return('I\\'m feeling good too!')\n",
    "        else:\n",
    "            return('Sorry to hear that.')\n",
    "                            \n",
    "g = GreetingBot()\n",
    "g.run()"
   ]
  },
  {
   "cell_type": "code",
   "execution_count": 10,
   "metadata": {},
   "outputs": [
    {
     "name": "stdout",
     "output_type": "stream",
     "text": [
      "What's your favorite color?\n"
     ]
    },
    {
     "name": "stdin",
     "output_type": "stream",
     "text": [
      " red\n"
     ]
    },
    {
     "name": "stdout",
     "output_type": "stream",
     "text": [
      "You like red? That is a great color. My favorite color is orange.\n"
     ]
    }
   ],
   "source": [
    "import random\n",
    "\n",
    "class FavoriteColorBot(Bot):\n",
    "    def __init__(self):\n",
    "        self.q = 'What\\'s your favorite color?'\n",
    "        \n",
    "    def _think(self, s):\n",
    "        colors = ['red', 'orange', 'yellow', 'green', 'blue', 'purple']\n",
    "        return(f'You like {s}? That is a great color. My favorite color is {random.choice(colors)}.')\n",
    "                            \n",
    "g = FavoriteColorBot()\n",
    "g.run()"
   ]
  },
  {
   "cell_type": "code",
   "execution_count": null,
   "metadata": {},
   "outputs": [],
   "source": []
  }
 ],
 "metadata": {
  "kernelspec": {
   "display_name": "Python 3",
   "language": "python",
   "name": "python3"
  },
  "language_info": {
   "codemirror_mode": {
    "name": "ipython",
    "version": 3
   },
   "file_extension": ".py",
   "mimetype": "text/x-python",
   "name": "python",
   "nbconvert_exporter": "python",
   "pygments_lexer": "ipython3",
   "version": "3.7.4"
  }
 },
 "nbformat": 4,
 "nbformat_minor": 4
}
