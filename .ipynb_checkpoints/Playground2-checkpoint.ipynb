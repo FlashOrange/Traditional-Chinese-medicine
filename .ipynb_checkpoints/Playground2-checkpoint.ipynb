{
 "cells": [
  {
   "cell_type": "code",
   "execution_count": 3,
   "metadata": {},
   "outputs": [
    {
     "name": "stdout",
     "output_type": "stream",
     "text": [
      "What is your name?\n"
     ]
    },
    {
     "name": "stdin",
     "output_type": "stream",
     "text": [
      " lfb\n"
     ]
    },
    {
     "name": "stdout",
     "output_type": "stream",
     "text": [
      "Hello lfb!\n"
     ]
    }
   ],
   "source": [
    "print('What is your name?')\n",
    "name = input()\n",
    "print(f'Hello {name}!')"
   ]
  },
  {
   "cell_type": "code",
   "execution_count": 5,
   "metadata": {},
   "outputs": [
    {
     "name": "stdout",
     "output_type": "stream",
     "text": [
      "How are you today?\n"
     ]
    },
    {
     "name": "stdin",
     "output_type": "stream",
     "text": [
      " good\n"
     ]
    },
    {
     "name": "stdout",
     "output_type": "stream",
     "text": [
      "I am feeling good too!\n"
     ]
    }
   ],
   "source": [
    "print('How are you today?')\n",
    "feeling = input()\n",
    "if 'good' in feeling:\n",
    "    print('I am feeling good too!')\n",
    "else:\n",
    "    print('Sorry to hear that.')"
   ]
  },
  {
   "cell_type": "code",
   "execution_count": 8,
   "metadata": {},
   "outputs": [
    {
     "name": "stdout",
     "output_type": "stream",
     "text": [
      "What is your favorite color?\n"
     ]
    },
    {
     "name": "stdin",
     "output_type": "stream",
     "text": [
      " red\n"
     ]
    },
    {
     "name": "stdout",
     "output_type": "stream",
     "text": [
      "You like red? That is a great color. My favorite color is indigo.\n"
     ]
    }
   ],
   "source": [
    "import random\n",
    "\n",
    "print('What is your favorite color?')\n",
    "favcolor = input()\n",
    "colors = ['red', 'orange', 'yellow', 'green', 'blue', 'indigo', 'purple']\n",
    "print(f'You like {favcolor}? That is a great color. My favorite color is {random.choice(colors)}.')"
   ]
  },
  {
   "cell_type": "code",
   "execution_count": 9,
   "metadata": {},
   "outputs": [
    {
     "name": "stdout",
     "output_type": "stream",
     "text": [
      "What is your name?\n"
     ]
    },
    {
     "name": "stdin",
     "output_type": "stream",
     "text": [
      " Lfb\n"
     ]
    },
    {
     "name": "stdout",
     "output_type": "stream",
     "text": [
      "Hello Lfb!\n"
     ]
    }
   ],
   "source": [
    "class Hello:\n",
    "    def run(self):\n",
    "        print('What is your name?')\n",
    "        name = input()\n",
    "        print(f'Hello {name}!')\n",
    "        \n",
    "h = Hello()\n",
    "h.run()"
   ]
  },
  {
   "cell_type": "code",
   "execution_count": 12,
   "metadata": {},
   "outputs": [
    {
     "name": "stdout",
     "output_type": "stream",
     "text": [
      "How are you today?\n"
     ]
    },
    {
     "name": "stdin",
     "output_type": "stream",
     "text": [
      " Good\n"
     ]
    },
    {
     "name": "stdout",
     "output_type": "stream",
     "text": [
      "Sorry to hear that.\n"
     ]
    }
   ],
   "source": [
    "class Greeting:\n",
    "    def run(self):\n",
    "        print('How are you today?')\n",
    "        feeling = input()\n",
    "        if 'good' in feeling:\n",
    "            print('I am feeling good too!')\n",
    "        else:\n",
    "            print('Sorry to hear that.')\n",
    "            \n",
    "g = Greeting()\n",
    "g.run()"
   ]
  },
  {
   "cell_type": "code",
   "execution_count": 13,
   "metadata": {},
   "outputs": [
    {
     "name": "stdout",
     "output_type": "stream",
     "text": [
      "How are you today?\n"
     ]
    },
    {
     "name": "stdin",
     "output_type": "stream",
     "text": [
      " Good.\n"
     ]
    },
    {
     "name": "stdout",
     "output_type": "stream",
     "text": [
      "I am feeling good too!\n"
     ]
    }
   ],
   "source": [
    "class Greeting:\n",
    "    def run(self):\n",
    "        print('How are you today?')\n",
    "        feeling = input()\n",
    "        if 'good' in feeling.lower():\n",
    "            print('I am feeling good too!')\n",
    "        else:\n",
    "            print('Sorry to hear that.')\n",
    "            \n",
    "g = Greeting()\n",
    "g.run()"
   ]
  },
  {
   "cell_type": "code",
   "execution_count": 17,
   "metadata": {},
   "outputs": [],
   "source": [
    "class Bot:\n",
    "    \n",
    "    def __init__(self):\n",
    "        self.q = ''\n",
    "        self.a = ''\n",
    "    \n",
    "    def think(self, s):\n",
    "        return s\n",
    "    \n",
    "    def run(self):\n",
    "        print(self.q)\n",
    "        self.a = input()\n",
    "        print(self.think(self.a))"
   ]
  },
  {
   "cell_type": "code",
   "execution_count": 18,
   "metadata": {},
   "outputs": [
    {
     "data": {
      "text/plain": [
       "<bound method HelloBot.run of <__main__.HelloBot object at 0x00D1C9D0>>"
      ]
     },
     "execution_count": 18,
     "metadata": {},
     "output_type": "execute_result"
    }
   ],
   "source": [
    "class HelloBot(Bot):\n",
    "    def __init__(self):\n",
    "        self.q = 'Hi,what is your name?'\n",
    "    \n",
    "    def think(self, s):\n",
    "        return (f'Hello {s}!')\n",
    "    \n",
    "    def run(self):\n",
    "        print(self.q)\n",
    "        self.a = input()\n",
    "        print(self.think(self.a))\n",
    "        \n",
    "h = HelloBot()\n",
    "h.run"
   ]
  },
  {
   "cell_type": "code",
   "execution_count": null,
   "metadata": {},
   "outputs": [],
   "source": [
    "class Bot:\n",
    "    \n",
    "    def __init__(self):\n",
    "        self.q = ''\n",
    "        self.a = ''\n",
    "    \n",
    "    def _think(self, s):\n",
    "        return s\n",
    "    \n",
    "    def run(self):\n",
    "        print(self.q)\n",
    "        self.a = input()\n",
    "        print(self._think(self.a))"
   ]
  },
  {
   "cell_type": "code",
   "execution_count": null,
   "metadata": {},
   "outputs": [],
   "source": [
    "class HelloBot(Bot):\n",
    "    def __init__(self):\n",
    "        self.q = 'Hi,what is your name?'\n",
    "    \n",
    "    def _think(self, s):\n",
    "        return f'Hello {s}!'\n",
    "            \n",
    "h = HelloBot()\n",
    "h.run"
   ]
  },
  {
   "cell_type": "code",
   "execution_count": null,
   "metadata": {},
   "outputs": [],
   "source": []
  }
 ],
 "metadata": {
  "kernelspec": {
   "display_name": "Python 3",
   "language": "python",
   "name": "python3"
  },
  "language_info": {
   "codemirror_mode": {
    "name": "ipython",
    "version": 3
   },
   "file_extension": ".py",
   "mimetype": "text/x-python",
   "name": "python",
   "nbconvert_exporter": "python",
   "pygments_lexer": "ipython3",
   "version": "3.7.4"
  }
 },
 "nbformat": 4,
 "nbformat_minor": 4
}
